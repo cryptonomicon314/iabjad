{
 "cells": [
  {
   "cell_type": "markdown",
   "metadata": {},
   "source": [
    "# Abjad Display in Jupyter Notebooks"
   ]
  },
  {
   "cell_type": "code",
   "execution_count": null,
   "metadata": {
    "collapsed": true
   },
   "outputs": [],
   "source": [
    "def isIPython():\n",
    "    try:\n",
    "        __IPYTHON__\n",
    "        return True\n",
    "    except:\n",
    "        return False"
   ]
  },
  {
   "cell_type": "markdown",
   "metadata": {},
   "source": [
    "## Imports"
   ]
  },
  {
   "cell_type": "markdown",
   "metadata": {},
   "source": [
    "Standard library imports:"
   ]
  },
  {
   "cell_type": "code",
   "execution_count": null,
   "metadata": {
    "collapsed": true
   },
   "outputs": [],
   "source": [
    "import os\n",
    "import shutil\n",
    "import subprocess\n",
    "import tempfile"
   ]
  },
  {
   "cell_type": "markdown",
   "metadata": {},
   "source": [
    "Abjad imports:"
   ]
  },
  {
   "cell_type": "code",
   "execution_count": null,
   "metadata": {
    "collapsed": true
   },
   "outputs": [],
   "source": [
    "from abjad.tools import topleveltools\n",
    "from abjad import *"
   ]
  },
  {
   "cell_type": "markdown",
   "metadata": {},
   "source": [
    "If the module is being run from an IPython notebook, we want to import functions that allow us to visualize the typeset music directly in the notebook."
   ]
  },
  {
   "cell_type": "code",
   "execution_count": null,
   "metadata": {
    "collapsed": true
   },
   "outputs": [],
   "source": [
    "if isIPython():\n",
    "    from IPython.core.display import display_png, display_svg, display_pdf"
   ]
  },
  {
   "cell_type": "markdown",
   "metadata": {},
   "source": [
    "## Graphics"
   ]
  },
  {
   "cell_type": "code",
   "execution_count": null,
   "metadata": {
    "collapsed": true
   },
   "outputs": [],
   "source": [
    "# Code inspired by:\n",
    "#  https://github.com/tiagoantao/abjad-ipython/blob/master/src/abjad-nb.py\n",
    "def _get_imgs(expr, fmt, lily_opts, trim_cmd=None):\n",
    "    \"\"\"Calls lilypond and converts output to (multi-page) Images.\n",
    "    with given file format.\n",
    "    \"\"\"\n",
    "    imgs = []\n",
    "    tmpdir = tempfile.mkdtemp()\n",
    "    # Prints the score into a LilyPond file \n",
    "    agent = topleveltools.persist(expr)\n",
    "    ly_file_path = os.path.join(tmpdir, 'out.ly')\n",
    "    result = agent.as_ly(ly_file_path)\n",
    "    \n",
    "    outpath = os.path.join(tmpdir, 'out')\n",
    "    # Compile the score into the chosen format (determined by 'lily_opts')\n",
    "    result = subprocess.call(['lilypond'] + lily_opts + ['-o', outpath, ly_file_path])\n",
    "    # Is the output a single page?\n",
    "    try:\n",
    "        input_img_paths = [tmpdir + os.sep + 'out.{}'.format(fmt)]\n",
    "    # Is the output in multiple pages? Some formats, like PNG and SVG don't support\n",
    "    # more than one page\n",
    "    except:\n",
    "        # We are going to send all pages\n",
    "        input_img_paths = []\n",
    "        for i in range(1000):  # Lets hope you do not have more than 1000 pages\n",
    "            #  When multiple pages are generated, the filename is generated\n",
    "            # according to the format string below:\n",
    "            input_path = tmpdir + os.sep + 'out-page{}.{}'.format((i + 1), fmt)\n",
    "            if os.path.isfile(input_path):\n",
    "                input_img_paths.append(input_path)\n",
    "            else:\n",
    "                if i == 0:  # No images\n",
    "                    raise\n",
    "                else:\n",
    "                    break\n",
    "\n",
    "    for input_path in input_img_paths:\n",
    "        if trim_cmd:\n",
    "            subprocess.call(trim_cmd(input_path))\n",
    "        \n",
    "        with open(input_path, 'rb') as f:\n",
    "            img = f.read()\n",
    "            imgs.append(img)\n",
    "            \n",
    "    # Remove the temporary directory and its contents\n",
    "    shutil.rmtree(tmpdir)\n",
    "    return imgs"
   ]
  },
  {
   "cell_type": "markdown",
   "metadata": {},
   "source": [
    "The function `_get_preview()` uses the lilypond `-dpreview=#t` option to automatically crop the image, without the need for external programs. Unfortunately, this only works if the score corresponds to a single system.\n",
    "The fact that this function doesn't rely on any external program makes it much faster and more convenient to use."
   ]
  },
  {
   "cell_type": "code",
   "execution_count": null,
   "metadata": {
    "collapsed": true
   },
   "outputs": [],
   "source": [
    "def _get_preview(expr, fmt, lily_opts):\n",
    "    tmpdir = tempfile.mkdtemp()\n",
    "    # Prints the score into a LipyPond file \n",
    "    agent = topleveltools.persist(expr)\n",
    "    ly_file_path = os.path.join(tmpdir, 'out.ly')\n",
    "    result = agent.as_ly(ly_file_path)\n",
    "    \n",
    "    # Compile the score into the chosen format (determined by 'lily_opts')\n",
    "    outpath = os.path.join(tmpdir, 'out')\n",
    "    result = subprocess.call(['lilypond'] + lily_opts + \\\n",
    "                             ['-dpreview=#t', # crop the score\n",
    "                              '-o', outpath, ly_file_path])\n",
    "    \n",
    "    input_img_path = os.path.join(tmpdir, 'out.preview.{}'.format(fmt))\n",
    "    \n",
    "    with open(input_img_path, 'rb') as f:\n",
    "        img = f.read()\n",
    "    \n",
    "    # Remove the temporary directory and its contents\n",
    "    shutil.rmtree(tmpdir)\n",
    "    return img"
   ]
  },
  {
   "cell_type": "markdown",
   "metadata": {},
   "source": [
    "### Handle Different Backends"
   ]
  },
  {
   "cell_type": "markdown",
   "metadata": {},
   "source": [
    "#### PNG"
   ]
  },
  {
   "cell_type": "code",
   "execution_count": null,
   "metadata": {
    "collapsed": true
   },
   "outputs": [],
   "source": [
    "_png_lily_opts = ['--png']\n",
    "\n",
    "def _get_pngs(expr):\n",
    "    def png_trim_cmd(in_):\n",
    "        return ['convert', in_, '-trim', in_]\n",
    "    return _get_imgs(expr, fmt='png', lily_opts=_png_lily_opts, trim_cmd=png_trim_cmd)"
   ]
  },
  {
   "cell_type": "markdown",
   "metadata": {},
   "source": [
    "#### SVG"
   ]
  },
  {
   "cell_type": "code",
   "execution_count": null,
   "metadata": {
    "collapsed": true
   },
   "outputs": [],
   "source": [
    "_svg_lily_opts = ['-dbackend=svg', '-dpoint-and-click=#f']\n",
    "\n",
    "def _get_svgs(expr):\n",
    "    def svg_trim_cmd(in_):\n",
    "        #  Unfortunately, it is impossible to supress the GUI\n",
    "        # when using Inkscape from the command line, which is\n",
    "        # extremely annoying.\n",
    "        return ['inkscape', '--verb=FitCanvasToDrawing',\n",
    "                            '--verb=FileSave',\n",
    "                            '--verb=FileQuit',\n",
    "                            in_]\n",
    "    return _get_imgs(expr, fmt='svg',\n",
    "                     lily_opts=_svg_lily_opts,\n",
    "                     trim_cmd=svg_trim_cmd)"
   ]
  },
  {
   "cell_type": "markdown",
   "metadata": {},
   "source": [
    "#### PDF"
   ]
  },
  {
   "cell_type": "code",
   "execution_count": null,
   "metadata": {
    "collapsed": true
   },
   "outputs": [],
   "source": [
    "_pdf_lily_opts = ['--pdf']\n",
    "\n",
    "def _get_pdfs(expr):\n",
    "    def pdf_trim_cmd(in_):\n",
    "        return ['convert', in_, '-trim', in_]\n",
    "    return _get_imgs(expr, fmt='pdf', lily_opts=_pdf_lily_opts, trim_cmd=pdf_trim_cmd)\n",
    "\n",
    "# Get PDF as a single file\n",
    "def _get_pdf_pages(expr):\n",
    "    return _get_imgs(expr, fmt='pdf', lily_opts=_pdf_lily_opts, trim_cmd=None)"
   ]
  },
  {
   "cell_type": "markdown",
   "metadata": {},
   "source": [
    "### Showing a Score in IPython\n",
    "\n",
    "These functions are meant to be used only in IPython (in a Jupyter notebook, for example).\n",
    "They are only accessible if the user is in fact loading the module from an IPython session.\n",
    "\n",
    "Two variants are defined:\n",
    "\n",
    "- `ishow()`: this is the most general function. It can be used to display any kind of score.\n",
    "     On the other hand, it depends on using an external program, such as ImageMagick or Inkscape\n",
    "     to crop the images, which makes it rather slow and inconvenient.\n",
    "     The advantage is that it can display multi-page scores in the notebook.\n",
    "     \n",
    "- `ishow_preview()` or its synonym `ishow_()`: this function displays only the first system of the score.\n",
    "      It is not dependent on any external program to crop the image, and as a result is much faster and\n",
    "      more convenient.\n",
    "      If you're sure your score fits in a single system, this is the function to use.\n",
    "      \n",
    "These functions all take the same arguments:\n",
    "\n",
    "- `expr`, a music expression (like a [`Score`](http://abjad.mbrsi.org/api/tools/scoretools/Score.html),\n",
    "    a [`Staff`](http://abjad.mbrsi.org/api/tools/scoretools/Staff.html),\n",
    "    a [`Voice`](http://abjad.mbrsi.org/api/tools/scoretools/Voice.html) or\n",
    "    a [`LilyPondFile`](http://abjad.mbrsi.org/api/tools/lilypondfiletools/LilyPondFile.html))\n",
    "- `fmt`, the file format to use when rendering the score\n",
    "- `pdf`, a boolean parameter that controls whether a link to a PDF is added after the score.\n",
    "    This is useful if you want to provide a printable copy of the score."
   ]
  },
  {
   "cell_type": "code",
   "execution_count": null,
   "metadata": {
    "collapsed": false
   },
   "outputs": [],
   "source": [
    "if isIPython():\n",
    "    def ishow_preview(expr, fmt='svg', pdf=False):\n",
    "        \"\"\"A replacement for Ajbad's show function for IPython Notebook\n",
    "           Optimized for speed; Renders only the first system of the score.\n",
    "        \"\"\"\n",
    "        assert '__illustrate__' in dir(expr)\n",
    "        \n",
    "        if fmt == 'png':\n",
    "            png = _get_preview(expr, 'png', _png_lily_opts)\n",
    "            display_png(png, raw=True)\n",
    "\n",
    "        if fmt == 'svg':\n",
    "            svg = _get_preview(expr, 'svg', _svg_lily_opts)\n",
    "            display_svg(svg, raw=True)\n",
    "\n",
    "        if fmt == 'pdf':\n",
    "            pdf = _get_preview(expr, 'pdf', _pdf_lily_opts)\n",
    "            display_pdf(pdf, raw=True)\n",
    "        \n",
    "        #  Unless we are only generating a PDF, we may want to\n",
    "        # include a link to a pdf file, so that the user\n",
    "        # can whatch the score in high quality, suitable for\n",
    "        # printing.\n",
    "        #  The IPython display_pdf() function generates a link\n",
    "        # to the embedded PDF file, suitable for printing.\n",
    "        if fmt != 'pdf' and pdf:\n",
    "            pdfs = _get_pdf_pages(expr)\n",
    "            for pdf in pdfs:\n",
    "                display_pdf(pdf, raw=True)\n",
    "    \n",
    "    def ishow_(expr, fmt='svg', pdf=False):\n",
    "        \"\"\"Alias for 'ishow_preview'. Saves some typing.\"\"\"\n",
    "        return ishow_preview(expr, fmt, pdf)\n",
    "        \n",
    "        \n",
    "    def ishow(expr, fmt='png', pdf=True):\n",
    "        \"\"\"A replacement for Ajbad's show function for IPython Notebook\"\"\"\n",
    "        assert '__illustrate__' in dir(expr)\n",
    "\n",
    "        if fmt == 'png':\n",
    "            pngs = _get_pngs(expr)\n",
    "            for png in pngs:\n",
    "                display_png(png, raw=True)\n",
    "\n",
    "        if fmt == 'svg':\n",
    "            svgs = _get_svgs(expr)\n",
    "            for svg in svgs:\n",
    "                display_svg(svg, raw=True)\n",
    "\n",
    "        if fmt == 'pdf':\n",
    "            pdfs = _get_pdfs(expr)\n",
    "            for pdf in pdfs:\n",
    "                display_pdf(pdf, raw=True)\n",
    "\n",
    "        #  Unless we are only generating a PDF, we want to\n",
    "        # include a link to a pdf file, so that the user\n",
    "        # can whatch the score in high quality, suitable for\n",
    "        # printing.\n",
    "        #  The IPython display_pdf() function generates a link\n",
    "        # to the embedded PDF file, suitable for printing.\n",
    "        if fmt != 'pdf' and pdf:\n",
    "            pdfs = _get_pdf_pages(expr)\n",
    "            for pdf in pdfs:\n",
    "                display_pdf(pdf, raw=True)"
   ]
  },
  {
   "cell_type": "markdown",
   "metadata": {},
   "source": [
    "### Exporting the Score\n",
    "\n",
    "These functions are meant to be used either in a notebook or from vanilla Python.\n",
    "They are meant to export (or render) the score to a file.\n",
    "The file format is taken from the extension in the filename.\n",
    "\n",
    "Th functions are analogous to the `ishow()`, `ishow_()`, and `ishow_preview()` functions:\n",
    "\n",
    "- `export()`: this is the most general function. It can be used to export any kind of score.\n",
    "     On the other hand, like `ishow()`, it depends on using an external program, such as ImageMagick or Inkscape\n",
    "     to crop the images, which makes it rather slow and inconvenient.\n",
    "     The advantage is that it can display multi-page scores in the notebook.\n",
    "     \n",
    "- `export_preview()` or its synonym `export_()`: this function exports only the first system of the score.\n",
    "      It is not dependent on any external program to crop the image, and as a result is much faster and\n",
    "      more convenient.\n",
    "      If you're sure your score fits in a single system, this is the function to use.\n",
    "      \n",
    "These functions all take the same arguments:\n",
    "\n",
    "- `expr`, a music expression (like a [`Score`](http://abjad.mbrsi.org/api/tools/scoretools/Score.html),\n",
    "    a [`Staff`](http://abjad.mbrsi.org/api/tools/scoretools/Staff.html),\n",
    "    a [`Voice`](http://abjad.mbrsi.org/api/tools/scoretools/Voice.html) or\n",
    "    a [`LilyPondFile`](http://abjad.mbrsi.org/api/tools/lilypondfiletools/LilyPondFile.html))\n",
    "- `filename`, the absolute or relative path to the file to which you want to export the score.\n",
    "    The file format is taken from the file extension.\n",
    "- `pdf`, a boolean parameter that controls whether a link to a PDF is added after the score.\n",
    "    This is useful if you want to provide a printable copy of the score."
   ]
  },
  {
   "cell_type": "code",
   "execution_count": null,
   "metadata": {
    "collapsed": true
   },
   "outputs": [],
   "source": [
    "def export_preview(expr, filename, show=True):\n",
    "    \"\"\"Exports the first system of the music.\"\"\"\n",
    "    \n",
    "    _, fmt = os.path.splitext(filename)\n",
    "    \n",
    "    if fmt == '.png':\n",
    "        img = _get_preview(expr, 'png', _png_lily_opts)\n",
    "        if show and isIPython():\n",
    "            display_png(img, raw=True)\n",
    "\n",
    "    elif fmt == '.svg':\n",
    "        img = _get_preview(expr, 'svg', _svg_lily_opts)\n",
    "        if show and isIPython():\n",
    "            display_svg(img, raw=True)\n",
    "\n",
    "    elif fmt == '.pdf':\n",
    "        img = _get_preview(expr, 'pdf', _pdf_lily_opts)\n",
    "        if show and isIPython():\n",
    "            display_pdf(img, raw=True)\n",
    "    \n",
    "    else:\n",
    "        raise Exception(\"Unsupported file extension.\")\n",
    "    \n",
    "    _save_img(img, filename)\n",
    "    \n",
    "\n",
    "def export_(expr, filename, show=True):\n",
    "    \"\"\"Alias for export_preview.\"\"\"\n",
    "    return export_preview(expr, filename, show)\n",
    "\n",
    "\n",
    "def export(expr, filename, show=True):\n",
    "    \"\"\"NOTE: if extension is 'svg' or 'png' assumes the output is a single page.\"\"\"\n",
    "\n",
    "    _, fmt = os.path.splitext(filename)\n",
    "    \n",
    "    if fmt == '.png':\n",
    "        pages = _get_pngs(expr)\n",
    "        if show and isIPython():\n",
    "            for page in pages:\n",
    "                display_png(page, raw=True)\n",
    "            \n",
    "    elif fmt == '.svg':\n",
    "        pages = _get_svgs(expr)\n",
    "        if show and isIPython():\n",
    "            for page in pages:\n",
    "                display_svg(page, raw=True)\n",
    "    \n",
    "    else:\n",
    "        raise Exception(\"Unsupported file extension.\")\n",
    "    \n",
    "    _save_img(pages[0], filename)"
   ]
  },
  {
   "cell_type": "markdown",
   "metadata": {},
   "source": [
    "The function `_save_img()` avoids code duplication in the `export()` and `export_preview()` functions."
   ]
  },
  {
   "cell_type": "code",
   "execution_count": null,
   "metadata": {
    "collapsed": true
   },
   "outputs": [],
   "source": [
    "# Not tested yet\n",
    "def _save_img(img, filename):\n",
    "    # Create the directory for the file\n",
    "    try:\n",
    "        # Try to create a new directory\n",
    "        os.makedirs(os.path.dirname(filename))\n",
    "    except:\n",
    "        #  If it fails, it's probably because the directory\n",
    "        # already exists, and the failure can be ignored.\n",
    "        pass\n",
    "    \n",
    "    with open(filename, 'w') as f:\n",
    "        f.write(img)"
   ]
  }
 ],
 "metadata": {
  "kernelspec": {
   "display_name": "Python 2",
   "language": "python",
   "name": "python2"
  },
  "language_info": {
   "codemirror_mode": {
    "name": "ipython",
    "version": 2
   },
   "file_extension": ".py",
   "mimetype": "text/x-python",
   "name": "python",
   "nbconvert_exporter": "python",
   "pygments_lexer": "ipython2",
   "version": "2.7.9"
  }
 },
 "nbformat": 4,
 "nbformat_minor": 0
}
